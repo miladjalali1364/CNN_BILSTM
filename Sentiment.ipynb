{
 "cells": [
  {
   "cell_type": "code",
   "execution_count": 45,
   "metadata": {
    "collapsed": true,
    "pycharm": {
     "name": "#%%\n"
    }
   },
   "outputs": [],
   "source": [
    "import pandas as pd\n",
    "import numpy as np\n",
    "import re\n",
    "import emojies\n",
    "from keras_preprocessing.sequence import pad_sequences\n",
    "from keras_preprocessing.text import Tokenizer\n",
    "from keras.models import Sequential\n",
    "from keras import losses\n",
    "from keras.layers import Embedding, Dense, Flatten, Bidirectional, LSTM, Dropout, MaxPooling1D, Conv1D\n",
    "from keras.optimizers import Adam\n",
    "from sklearn.model_selection import train_test_split\n",
    "from nltk.tokenize import word_tokenize\n",
    "from parsivar import Normalizer, SpellCheck\n",
    "from nltk.corpus import stopwords\n",
    "from matplotlib import pyplot as plt\n",
    "from sklearn.model_selection import train_test_split\n",
    "import pickle"
   ]
  },
  {
   "cell_type": "code",
   "execution_count": 15,
   "outputs": [],
   "source": [
    "def load_data(path,sh_name):\n",
    "    df = pd.read_csv(path, encoding='utf-8',\n",
    "                 index_col=False)\n",
    "    return df"
   ],
   "metadata": {
    "collapsed": false,
    "pycharm": {
     "name": "#%%\n"
    }
   }
  },
  {
   "cell_type": "code",
   "execution_count": 3,
   "outputs": [],
   "source": [
    "#### Create Function Clean for Data Frame"
   ],
   "metadata": {
    "collapsed": false,
    "pycharm": {
     "name": "#%%\n"
    }
   }
  },
  {
   "cell_type": "code",
   "execution_count": 4,
   "outputs": [],
   "source": [
    "def clean(text):\n",
    "    text = emojies.replace(text)\n",
    "    text = re.sub(\"@[A-Za-z0-9]+\", '', text)\n",
    "    text = re.sub(r'http\\S+', '', text)\n",
    "\n",
    "    #### Convert Finiglish To Persian in Package Parsivar\n",
    "    my_normilize = Normalizer(pinglish_conversion_needed=True)\n",
    "    text = my_normilize.normalize(text)\n",
    "    text_token = word_tokenize(text)\n",
    "    tokens_without_sw = [word for word in text_token if not word in stopwords.words('persion') ]\n",
    "    text = \" \".join(tokens_without_sw)\n",
    "    return text"
   ],
   "metadata": {
    "collapsed": false,
    "pycharm": {
     "name": "#%%\n"
    }
   }
  },
  {
   "cell_type": "code",
   "execution_count": 5,
   "outputs": [],
   "source": [
    "# Load Data"
   ],
   "metadata": {
    "collapsed": false,
    "pycharm": {
     "name": "#%%\n"
    }
   }
  },
  {
   "cell_type": "code",
   "execution_count": 48,
   "outputs": [],
   "source": [
    "def model_Bilstm(data):\n",
    "    Data_Trian, Data_Test = train_test_split(data, test_size=0.2)\n",
    "    tokenize = Tokenizer()\n",
    "    tokenize.fit_on_texts(Data_Trian['clean'])\n",
    "\n",
    "    with open('CNN_BiLSTM_6_tokenizer.pickle', 'wb') as handle:\n",
    "        pickle.dump(tokenize, handle, protocol=pickle.HIGHEST_PROTOCOL)\n",
    "    #tokenize.fit_on_texts(Data_Test['clean'])\n",
    "    encode_Data_Trian = tokenize.texts_to_sequences(Data_Trian['clean'])\n",
    "    encode_Data_Test = tokenize.texts_to_sequences(Data_Test['clean'])\n",
    "    vocab_size = len(tokenize.word_index)+1\n",
    "\n",
    "    encode_Data_Trian_tag = (pd.get_dummies(Data_Trian['tag'])).values.tolist()\n",
    "    encode_Data_Test_tag = (pd.get_dummies(Data_Test['tag'])).values.tolist()\n",
    "    arr = np.array(encode_Data_Trian_tag)\n",
    "    arr_Test = np.array(encode_Data_Test_tag)\n",
    "\n",
    "    Data_Trian_p = pad_sequences(encode_Data_Trian,maxlen=100,padding='post')\n",
    "    Data_Test_p = pad_sequences(encode_Data_Test,maxlen=100,padding='post')\n",
    "\n",
    "    model = Sequential()\n",
    "    model.add(Embedding(vocab_size, 64, input_length=100))\n",
    "    model.add(Conv1D(filters=32, kernel_size=1, activation='relu'))\n",
    "    model.add(MaxPooling1D(pool_size=4))\n",
    "    model.add(Bidirectional(LSTM(50, dropout=0.2, recurrent_dropout=0.3)))\n",
    "\n",
    "    # model.add(Flatten())\n",
    "    # model.add(Bidirectional(LSTM(64, return_sequences=True, input_shape=(None, 1))))\n",
    "    # model.add(Dropout(0.2))\n",
    "    # model.add(Bidirectional(LSTM(32)))\n",
    "    # model.add(Dropout(0.2))\n",
    "    # model.add(Dense(64, activation='relu'))\n",
    "    # model.add(Dropout(0.1))\n",
    "    # model.add(Flatten())\n",
    "    # model.add(Dense(400, activation='sigmoid'))\n",
    "    model.add(Dense(2, activation='softmax'))\n",
    "   # model.compile(loss='categorical_crossentropy', optimizer='adam', metrics=['accuracy'])\n",
    "    model.compile(loss='categorical_crossentropy', optimizer='adam', metrics=['accuracy'])\n",
    "\n",
    "    #\n",
    "    # adam = Adam(learning_rate=0.01)\n",
    "    # model.compile(\n",
    "    #     loss=losses.BinaryCrossentropy(from_logits=True),\n",
    "    #     optimizer=adam,\n",
    "    #     metrics=['accuracy']\n",
    "    # )\n",
    "    print(model.summary())\n",
    "\n",
    "        # Fitting Network\n",
    "    model.fit(Data_Trian_p, arr, epochs=10, verbose=2)\n",
    "\n",
    "    # Evaluating Network\n",
    "    loss, acc = model.evaluate(Data_Test_p, arr_Test, verbose=0)\n",
    "    print('Test Accuracy: %f' % (acc * 100))\n",
    "    print('Test loss: %f' % loss)\n",
    "    model.save('CNN_LSTM_2_branch.h5')\n",
    "    # model.fit(\n",
    "    #     Data_Trian_p,\n",
    "    #     arr,\n",
    "    #     epochs=10,\n",
    "    #     verbose=1,\n",
    "    #     batch_size=64\n",
    "    # )\n",
    "    # model.evaluate()\n",
    "\n",
    "\n",
    "\n",
    "\n",
    "\n"
   ],
   "metadata": {
    "collapsed": false,
    "pycharm": {
     "name": "#%%\n"
    }
   }
  },
  {
   "cell_type": "code",
   "execution_count": null,
   "outputs": [],
   "source": [
    "path = r\"C:\\\\Users\\\\yousefi-pc\\\\PycharmProjects\\\\DataSet\\\\comp_dataset2.csv\"\n",
    "sheet='Sheet3'\n",
    "Data_f = load_data(path, sheet)\n",
    "Data_f"
   ],
   "metadata": {
    "collapsed": false,
    "pycharm": {
     "name": "#%%\n",
     "is_executing": true
    }
   }
  },
  {
   "cell_type": "code",
   "execution_count": null,
   "outputs": [],
   "source": [
    "Data_f['tag'].value_counts()"
   ],
   "metadata": {
    "collapsed": false,
    "pycharm": {
     "name": "#%%\n",
     "is_executing": true
    }
   }
  },
  {
   "cell_type": "code",
   "execution_count": 49,
   "outputs": [],
   "source": [
    "Data_f_kham = Data_f[Data_f['tag']=='خشم' ]\n",
    "Data_f_shd = Data_f[Data_f['tag']=='شادی']\n",
    "Data_f_ghm = Data_f[Data_f['tag']=='غم']\n",
    "Data_f_omid = Data_f[Data_f['tag']=='امید']\n",
    "Data_f_khoonsa = Data_f[Data_f['tag']=='خنثی']\n",
    "Data_append=[Data_f_kham, Data_f_shd]# Data_f_ghm, Data_f_omid]\n",
    "Data_f = pd.concat(Data_append)"
   ],
   "metadata": {
    "collapsed": false,
    "pycharm": {
     "name": "#%%\n"
    }
   }
  },
  {
   "cell_type": "code",
   "execution_count": 25,
   "outputs": [],
   "source": [
    "# grouped = Data_f.groupby(Data_f.tag)\n",
    "# Tanya = grouped.get_group(\"خشم\")"
   ],
   "metadata": {
    "collapsed": false,
    "pycharm": {
     "name": "#%%\n"
    }
   }
  },
  {
   "cell_type": "code",
   "execution_count": 26,
   "outputs": [],
   "source": [
    "# Tanya"
   ],
   "metadata": {
    "collapsed": false,
    "pycharm": {
     "name": "#%%\n"
    }
   }
  },
  {
   "cell_type": "code",
   "execution_count": 27,
   "outputs": [],
   "source": [
    "Data_f['clean'] = Data_f['caption'].apply(lambda x:clean(x))\n",
    "# Data_f['clean'] = Data_f['caption']\n"
   ],
   "metadata": {
    "collapsed": false,
    "pycharm": {
     "name": "#%%\n"
    }
   }
  },
  {
   "cell_type": "code",
   "execution_count": 50,
   "outputs": [
    {
     "data": {
      "text/plain": "                                                 caption   tag  \\\n0      احمق مردم ایران پول ندارن که بخرن وگرنه از این...   خشم   \n4                  @bardiyabaseri همون که تومیزنی جناااب   خشم   \n6      واقعا هدفتون الان از انتشار تصاویر این طفل معص...   خشم   \n7                                              اروای عمش   خشم   \n14     دوربین رو بچرخون تو اتاق تا ملت ببینن چقدر از ...   خشم   \n...                                                  ...   ...   \n15147  @hadanmoosavi بالاخره بعد از سال‌ها سینه‌خیز ر...  شادی   \n15148  @official_hashar @mahtab_kocholoo با این که بح...  شادی   \n15149  نیکی هیلی ، سفیر سابق #امریکا در سازمان ملل طی...  شادی   \n15150  دوشنبه 7 فوریه ، بنت طی یک نشست مطبوعاتی به خب...  شادی   \n15151  @zlj517 ممنونم ولی تبریک کفایت نمیکند . موظفید...  شادی   \n\n                                                   clean  \n0      احمق مردم ایران پول ندارن که بخرن اینجا بدتر م...  \n4                                 همون که تومیزنی جناااب  \n6      هدفتون انتشار تصاویر این طفل معصوم‌ها چیه ! ! ...  \n7                                              اروای عمش  \n14     دوربین بچرخون اتاق ملت ببینن امکانات بیت المال...  \n...                                                  ...  \n15147  سال‌ها سینه‌خیز رفتن ، پذیرفتید که ظریف متن بر...  \n15148  _ hashar _ کوچولو این که بحث بسیار جدیست و اخت...  \n15149  نیکی هیلی ، سفیر سابق # امریکا سازمان ملل طی پ...  \n15150  دوشنبه 7 فوریه ، بنت طی یک نشست مطبوعاتی خبرنگ...  \n15151  ممنونم ولی تبریک کفایت نمیکند . موظفید روزهای ...  \n\n[6333 rows x 3 columns]",
      "text/html": "<div>\n<style scoped>\n    .dataframe tbody tr th:only-of-type {\n        vertical-align: middle;\n    }\n\n    .dataframe tbody tr th {\n        vertical-align: top;\n    }\n\n    .dataframe thead th {\n        text-align: right;\n    }\n</style>\n<table border=\"1\" class=\"dataframe\">\n  <thead>\n    <tr style=\"text-align: right;\">\n      <th></th>\n      <th>caption</th>\n      <th>tag</th>\n      <th>clean</th>\n    </tr>\n  </thead>\n  <tbody>\n    <tr>\n      <th>0</th>\n      <td>احمق مردم ایران پول ندارن که بخرن وگرنه از این...</td>\n      <td>خشم</td>\n      <td>احمق مردم ایران پول ندارن که بخرن اینجا بدتر م...</td>\n    </tr>\n    <tr>\n      <th>4</th>\n      <td>@bardiyabaseri همون که تومیزنی جناااب</td>\n      <td>خشم</td>\n      <td>همون که تومیزنی جناااب</td>\n    </tr>\n    <tr>\n      <th>6</th>\n      <td>واقعا هدفتون الان از انتشار تصاویر این طفل معص...</td>\n      <td>خشم</td>\n      <td>هدفتون انتشار تصاویر این طفل معصوم‌ها چیه ! ! ...</td>\n    </tr>\n    <tr>\n      <th>7</th>\n      <td>اروای عمش</td>\n      <td>خشم</td>\n      <td>اروای عمش</td>\n    </tr>\n    <tr>\n      <th>14</th>\n      <td>دوربین رو بچرخون تو اتاق تا ملت ببینن چقدر از ...</td>\n      <td>خشم</td>\n      <td>دوربین بچرخون اتاق ملت ببینن امکانات بیت المال...</td>\n    </tr>\n    <tr>\n      <th>...</th>\n      <td>...</td>\n      <td>...</td>\n      <td>...</td>\n    </tr>\n    <tr>\n      <th>15147</th>\n      <td>@hadanmoosavi بالاخره بعد از سال‌ها سینه‌خیز ر...</td>\n      <td>شادی</td>\n      <td>سال‌ها سینه‌خیز رفتن ، پذیرفتید که ظریف متن بر...</td>\n    </tr>\n    <tr>\n      <th>15148</th>\n      <td>@official_hashar @mahtab_kocholoo با این که بح...</td>\n      <td>شادی</td>\n      <td>_ hashar _ کوچولو این که بحث بسیار جدیست و اخت...</td>\n    </tr>\n    <tr>\n      <th>15149</th>\n      <td>نیکی هیلی ، سفیر سابق #امریکا در سازمان ملل طی...</td>\n      <td>شادی</td>\n      <td>نیکی هیلی ، سفیر سابق # امریکا سازمان ملل طی پ...</td>\n    </tr>\n    <tr>\n      <th>15150</th>\n      <td>دوشنبه 7 فوریه ، بنت طی یک نشست مطبوعاتی به خب...</td>\n      <td>شادی</td>\n      <td>دوشنبه 7 فوریه ، بنت طی یک نشست مطبوعاتی خبرنگ...</td>\n    </tr>\n    <tr>\n      <th>15151</th>\n      <td>@zlj517 ممنونم ولی تبریک کفایت نمیکند . موظفید...</td>\n      <td>شادی</td>\n      <td>ممنونم ولی تبریک کفایت نمیکند . موظفید روزهای ...</td>\n    </tr>\n  </tbody>\n</table>\n<p>6333 rows × 3 columns</p>\n</div>"
     },
     "execution_count": 50,
     "metadata": {},
     "output_type": "execute_result"
    }
   ],
   "source": [
    "Data_f"
   ],
   "metadata": {
    "collapsed": false,
    "pycharm": {
     "name": "#%%\n"
    }
   }
  },
  {
   "cell_type": "code",
   "execution_count": 51,
   "outputs": [
    {
     "data": {
      "text/plain": "شادی    3650\nخشم     2683\nName: tag, dtype: int64"
     },
     "execution_count": 51,
     "metadata": {},
     "output_type": "execute_result"
    }
   ],
   "source": [
    "Data_f['tag'].value_counts()"
   ],
   "metadata": {
    "collapsed": false,
    "pycharm": {
     "name": "#%%\n"
    }
   }
  },
  {
   "cell_type": "code",
   "execution_count": 52,
   "outputs": [
    {
     "data": {
      "text/plain": "<AxesSubplot:>"
     },
     "execution_count": 52,
     "metadata": {},
     "output_type": "execute_result"
    },
    {
     "data": {
      "text/plain": "<Figure size 432x288 with 1 Axes>",
      "image/png": "[encoded data removed]"
     },
     "metadata": {
      "needs_background": "light"
     },
     "output_type": "display_data"
    }
   ],
   "source": [
    "Data_f['tag'].value_counts().plot(kind='bar')\n",
    "#Data_f['tag'].value_counts().plot(kind=\"pie\")"
   ],
   "metadata": {
    "collapsed": false,
    "pycharm": {
     "name": "#%%\n"
    }
   }
  },
  {
   "cell_type": "code",
   "execution_count": 53,
   "outputs": [
    {
     "name": "stdout",
     "output_type": "stream",
     "text": [
      "Model: \"sequential_8\"\n",
      "_________________________________________________________________\n",
      " Layer (type)                Output Shape              Param #   \n",
      "=================================================================\n",
      " embedding_8 (Embedding)     (None, 100, 64)           946624    \n",
      "                                                                 \n",
      " conv1d_8 (Conv1D)           (None, 100, 32)           2080      \n",
      "                                                                 \n",
      " max_pooling1d_8 (MaxPooling  (None, 25, 32)           0         \n",
      " 1D)                                                             \n",
      "                                                                 \n",
      " bidirectional_8 (Bidirectio  (None, 100)              33200     \n",
      " nal)                                                            \n",
      "                                                                 \n",
      " dense_8 (Dense)             (None, 2)                 202       \n",
      "                                                                 \n",
      "=================================================================\n",
      "Total params: 982,106\n",
      "Trainable params: 982,106\n",
      "Non-trainable params: 0\n",
      "_________________________________________________________________\n",
      "None\n",
      "Epoch 1/10\n",
      "159/159 - 13s - loss: 0.4680 - accuracy: 0.7659 - 13s/epoch - 84ms/step\n",
      "Epoch 2/10\n",
      "159/159 - 7s - loss: 0.1774 - accuracy: 0.9372 - 7s/epoch - 43ms/step\n",
      "Epoch 3/10\n",
      "159/159 - 8s - loss: 0.0526 - accuracy: 0.9860 - 8s/epoch - 50ms/step\n",
      "Epoch 4/10\n",
      "159/159 - 10s - loss: 0.0289 - accuracy: 0.9927 - 10s/epoch - 60ms/step\n",
      "Epoch 5/10\n",
      "159/159 - 9s - loss: 0.0216 - accuracy: 0.9929 - 9s/epoch - 53ms/step\n",
      "Epoch 6/10\n",
      "159/159 - 9s - loss: 0.0128 - accuracy: 0.9970 - 9s/epoch - 59ms/step\n",
      "Epoch 7/10\n",
      "159/159 - 8s - loss: 0.0119 - accuracy: 0.9970 - 8s/epoch - 53ms/step\n",
      "Epoch 8/10\n",
      "159/159 - 8s - loss: 0.0097 - accuracy: 0.9980 - 8s/epoch - 51ms/step\n",
      "Epoch 9/10\n",
      "159/159 - 8s - loss: 0.0064 - accuracy: 0.9986 - 8s/epoch - 51ms/step\n",
      "Epoch 10/10\n",
      "159/159 - 7s - loss: 0.0046 - accuracy: 0.9992 - 7s/epoch - 46ms/step\n",
      "Test Accuracy: 86.424625\n",
      "Test loss: 0.770180\n"
     ]
    }
   ],
   "source": [
    "model_Bilstm(Data_f)"
   ],
   "metadata": {
    "collapsed": false,
    "pycharm": {
     "name": "#%%\n"
    }
   }
  },
  {
   "cell_type": "code",
   "execution_count": null,
   "outputs": [],
   "source": [],
   "metadata": {
    "collapsed": false,
    "pycharm": {
     "name": "#%%\n",
     "is_executing": true
    }
   }
  },
  {
   "cell_type": "code",
   "execution_count": null,
   "outputs": [],
   "source": [],
   "metadata": {
    "collapsed": false,
    "pycharm": {
     "name": "#%%\n"
    }
   }
  }
 ],
 "metadata": {
  "kernelspec": {
   "display_name": "Python 3",
   "language": "python",
   "name": "python3"
  },
  "language_info": {
   "codemirror_mode": {
    "name": "ipython",
    "version": 2
   },
   "file_extension": ".py",
   "mimetype": "text/x-python",
   "name": "python",
   "nbconvert_exporter": "python",
   "pygments_lexer": "ipython2",
   "version": "2.7.6"
  }
 },
 "nbformat": 4,
 "nbformat_minor": 0
}